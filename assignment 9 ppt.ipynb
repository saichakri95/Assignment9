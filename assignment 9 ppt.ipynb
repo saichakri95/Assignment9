{
 "cells": [
  {
   "cell_type": "code",
   "execution_count": 1,
   "id": "24003c0f-33a4-4042-8dcb-de9604fd0226",
   "metadata": {},
   "outputs": [
    {
     "name": "stdout",
     "output_type": "stream",
     "text": [
      "True\n"
     ]
    }
   ],
   "source": [
    "#question 1 solution ex1\n",
    "class Solution:\n",
    "  def isPowerOfTwo(self, n: int) -> bool:\n",
    "    return False if n < 0 else bin(n).count('1') == 1\n",
    "r=Solution()\n",
    "n = 1 \n",
    "output=r.isPowerOfTwo(n)\n",
    "print(output)"
   ]
  },
  {
   "cell_type": "code",
   "execution_count": 9,
   "id": "f00ee071-cf3d-40c0-a33d-4a6b8f2aa5fd",
   "metadata": {},
   "outputs": [
    {
     "name": "stdout",
     "output_type": "stream",
     "text": [
      "True\n"
     ]
    }
   ],
   "source": [
    "#question 1 solution ex2\n",
    "class Solution:\n",
    "  def isPowerOfTwo(self, n: int) -> bool:\n",
    "    return False if n < 0 else bin(n).count('1') == 1\n",
    "r=Solution()\n",
    "n = 16 \n",
    "output=r.isPowerOfTwo(n)\n",
    "print(output)"
   ]
  },
  {
   "cell_type": "code",
   "execution_count": 11,
   "id": "e911dd5c-cb96-49b0-8efa-dd1df5ca951d",
   "metadata": {},
   "outputs": [
    {
     "name": "stdout",
     "output_type": "stream",
     "text": [
      "False\n"
     ]
    }
   ],
   "source": [
    "#question 1 solution ex3\n",
    "class Solution:\n",
    "  def isPowerOfTwo(self, n: int) -> bool:\n",
    "    return False if n < 0 else bin(n).count('1') == 1\n",
    "r=Solution()\n",
    "n = 3\n",
    "output=r.isPowerOfTwo(n)\n",
    "print(output)"
   ]
  },
  {
   "cell_type": "code",
   "execution_count": 2,
   "id": "767bc147-1674-4ddb-b790-4517465b684d",
   "metadata": {},
   "outputs": [
    {
     "name": "stdout",
     "output_type": "stream",
     "text": [
      "6\n"
     ]
    }
   ],
   "source": [
    "#question 2 solution ex1\n",
    "def findSum(n):\n",
    "    sum = 0\n",
    "    x = 1\n",
    "    while x <= n:\n",
    "        sum = sum + x\n",
    "        x = x + 1\n",
    "    return sum\n",
    "n = 3 \n",
    "output=findSum(n)\n",
    "print(output)"
   ]
  },
  {
   "cell_type": "code",
   "execution_count": 13,
   "id": "57a2b26d-e736-4b8c-aa4d-a2d6a6ec37fa",
   "metadata": {},
   "outputs": [
    {
     "name": "stdout",
     "output_type": "stream",
     "text": [
      "15\n"
     ]
    }
   ],
   "source": [
    "#question 2 solution ex2\n",
    "def findSum(n):\n",
    "    sum = 0\n",
    "    x = 1\n",
    "    while x <= n:\n",
    "        sum = sum + x\n",
    "        x = x + 1\n",
    "    return sum\n",
    "n = 5 \n",
    "output=findSum(n)\n",
    "print(output)"
   ]
  },
  {
   "cell_type": "code",
   "execution_count": 3,
   "id": "73332062-7932-43b7-9c46-e6d25610bd74",
   "metadata": {},
   "outputs": [
    {
     "name": "stdout",
     "output_type": "stream",
     "text": [
      "25.0\n"
     ]
    }
   ],
   "source": [
    "##question 4 solution ex1\n",
    "class Solution(object):\n",
    "    def myPow(self, x, n):\n",
    "        return float(pow(x,n))\n",
    "r=Solution()\n",
    "N = 5\n",
    "P = 2\n",
    "output=r.myPow(N,P)\n",
    "print(output)"
   ]
  },
  {
   "cell_type": "code",
   "execution_count": 6,
   "id": "31161565-7ad7-46c8-b018-7a621f256dc0",
   "metadata": {},
   "outputs": [
    {
     "name": "stdout",
     "output_type": "stream",
     "text": [
      "32.0\n"
     ]
    }
   ],
   "source": [
    "##question 4 solution ex2\n",
    "class Solution(object):\n",
    "    def myPow(self, x, n):\n",
    "        return float(pow(x,n))\n",
    "r=Solution()\n",
    "N = 2\n",
    "P = 5\n",
    "output=r.myPow(N,P)\n",
    "print(output)"
   ]
  },
  {
   "cell_type": "code",
   "execution_count": 4,
   "id": "fa854570-e3f3-4ed8-875b-100368703d30",
   "metadata": {},
   "outputs": [
    {
     "name": "stdout",
     "output_type": "stream",
     "text": [
      "6\n"
     ]
    }
   ],
   "source": [
    "##question 6 solution   ex1\n",
    "def Nth_of_AP(a, d, N) :\n",
    "    return (a + (N - 1) * d)\n",
    "a = 2\n",
    "d = 1\n",
    "N = 5\n",
    "output=Nth_of_AP(a,d,N)\n",
    "print(output)"
   ]
  },
  {
   "cell_type": "code",
   "execution_count": 14,
   "id": "5605e6aa-a7a8-4d5d-be40-bf0f7ea22800",
   "metadata": {},
   "outputs": [
    {
     "name": "stdout",
     "output_type": "stream",
     "text": [
      "23\n"
     ]
    }
   ],
   "source": [
    "##question 6 solution   ex2\n",
    "def Nth_of_AP(a, d, N) :\n",
    "    return (a + (N - 1) * d)\n",
    "a = 5\n",
    "d = 2\n",
    "N = 10\n",
    "output=Nth_of_AP(a,d,N)\n",
    "print(output)"
   ]
  },
  {
   "cell_type": "code",
   "execution_count": null,
   "id": "91663c5a-dfff-4953-a18e-d432ee7bee66",
   "metadata": {},
   "outputs": [],
   "source": []
  }
 ],
 "metadata": {
  "kernelspec": {
   "display_name": "Python 3 (ipykernel)",
   "language": "python",
   "name": "python3"
  },
  "language_info": {
   "codemirror_mode": {
    "name": "ipython",
    "version": 3
   },
   "file_extension": ".py",
   "mimetype": "text/x-python",
   "name": "python",
   "nbconvert_exporter": "python",
   "pygments_lexer": "ipython3",
   "version": "3.10.6"
  }
 },
 "nbformat": 4,
 "nbformat_minor": 5
}
